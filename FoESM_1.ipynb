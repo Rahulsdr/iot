{
 "cells": [
  {
   "cell_type": "code",
   "execution_count": 2,
   "metadata": {},
   "outputs": [
    {
     "name": "stdout",
     "output_type": "stream",
     "text": [
      "              District  Actual(mm)  Normal(mm)\n",
      "0            Alappuzha        99.9        38.8\n",
      "1            Ernakulam       149.2        22.9\n",
      "2               Idukki       119.5        24.8\n",
      "3               Kannur        79.8         3.3\n",
      "4             Kasargod       114.0         2.6\n",
      "5               Kollam        90.4        37.4\n",
      "6             Kottayam       155.9        31.4\n",
      "7             Kozhikod       170.5         5.2\n",
      "8                 Mahe        74.6         5.0\n",
      "9           Malappuram        95.2         5.2\n",
      "10            Palakkad        39.7         7.1\n",
      "11      Pattanamthitta       242.0        48.4\n",
      "12  Thiruvananthapuram        95.2        33.2\n",
      "13            Thrissur        67.3        11.0\n",
      "14             Wayanad        74.4        11.0\n"
     ]
    }
   ],
   "source": [
    "#Reading File\n",
    "import pandas as pd\n",
    "rain= pd.read_csv(\"D:\\MTech_Coursework\\Fundamentals of earth system modelling\\Rain_kerala_janfeb2021.txt\",sep=\" \")\n",
    "print(rain)"
   ]
  },
  {
   "cell_type": "code",
   "execution_count": 3,
   "metadata": {},
   "outputs": [
    {
     "name": "stdout",
     "output_type": "stream",
     "text": [
      "Average Rainfall Received = 111.17333333333335 mm\n"
     ]
    },
    {
     "data": {
      "text/plain": [
       "0      99.9\n",
       "1     149.2\n",
       "2     119.5\n",
       "3      79.8\n",
       "4     114.0\n",
       "5      90.4\n",
       "6     155.9\n",
       "7     170.5\n",
       "8      74.6\n",
       "9      95.2\n",
       "10     39.7\n",
       "11    242.0\n",
       "12     95.2\n",
       "13     67.3\n",
       "14     74.4\n",
       "Name: Actual(mm), dtype: float64"
      ]
     },
     "execution_count": 3,
     "metadata": {},
     "output_type": "execute_result"
    }
   ],
   "source": [
    "#Average rainfall received over the state during 1 Jan 2021 – 22Feb 2021\n",
    "print(\"Average Rainfall Received =\",rain['Actual(mm)'].mean(),'mm')\n",
    "\n",
    "rain['Actual(mm)']"
   ]
  },
  {
   "cell_type": "code",
   "execution_count": 4,
   "metadata": {},
   "outputs": [
    {
     "name": "stdout",
     "output_type": "stream",
     "text": [
      "              District  Actual(mm)  Normal(mm)  Percentage Departure %\n",
      "0            Alappuzha        99.9        38.8             -157.474227\n",
      "1            Ernakulam       149.2        22.9             -551.528384\n",
      "2               Idukki       119.5        24.8             -381.854839\n",
      "3               Kannur        79.8         3.3            -2318.181818\n",
      "4             Kasargod       114.0         2.6            -4284.615385\n",
      "5               Kollam        90.4        37.4             -141.711230\n",
      "6             Kottayam       155.9        31.4             -396.496815\n",
      "7             Kozhikod       170.5         5.2            -3178.846154\n",
      "8                 Mahe        74.6         5.0            -1392.000000\n",
      "9           Malappuram        95.2         5.2            -1730.769231\n",
      "10            Palakkad        39.7         7.1             -459.154930\n",
      "11      Pattanamthitta       242.0        48.4             -400.000000\n",
      "12  Thiruvananthapuram        95.2        33.2             -186.746988\n",
      "13            Thrissur        67.3        11.0             -511.818182\n",
      "14             Wayanad        74.4        11.0             -576.363636\n"
     ]
    }
   ],
   "source": [
    "#percentage of departure of actual rainfall from normal for each district\n",
    "per_depart=((rain['Normal(mm)']-rain['Actual(mm)'])/rain['Normal(mm)'])*100\n",
    "rain.insert(loc=len(rain.columns), column='Percentage Departure %', value=per_depart)\n",
    "print(rain)"
   ]
  },
  {
   "cell_type": "code",
   "execution_count": 5,
   "metadata": {},
   "outputs": [
    {
     "data": {
      "image/png": "[encoded data removed]",
      "text/plain": [
       "<Figure size 432x288 with 1 Axes>"
      ]
     },
     "metadata": {
      "needs_background": "light"
     },
     "output_type": "display_data"
    }
   ],
   "source": [
    "#Bar graph with actual and normal rainfall values of the period over various districts\n",
    "import matplotlib.pyplot as plt\n",
    "rain.plot(x='District',y=['Actual(mm)','Normal(mm)'],kind='bar',color=['green','red'])\n",
    "plt.show()"
   ]
  },
  {
   "cell_type": "code",
   "execution_count": null,
   "metadata": {},
   "outputs": [],
   "source": [
    "rain['Actual(mm)']"
   ]
  },
  {
   "cell_type": "code",
   "execution_count": 3,
   "metadata": {},
   "outputs": [
    {
     "data": {
      "text/plain": [
       "(15, 3)"
      ]
     },
     "execution_count": 3,
     "metadata": {},
     "output_type": "execute_result"
    }
   ],
   "source": [
    "rain.shape"
   ]
  },
  {
   "cell_type": "code",
   "execution_count": 7,
   "metadata": {},
   "outputs": [
    {
     "ename": "AttributeError",
     "evalue": "module 'pandas' has no attribute 'reshape'",
     "output_type": "error",
     "traceback": [
      "\u001b[1;31m---------------------------------------------------------------------------\u001b[0m",
      "\u001b[1;31mAttributeError\u001b[0m                            Traceback (most recent call last)",
      "\u001b[1;32m<ipython-input-7-f24ca825d90b>\u001b[0m in \u001b[0;36m<module>\u001b[1;34m\u001b[0m\n\u001b[1;32m----> 1\u001b[1;33m \u001b[0mpd\u001b[0m\u001b[1;33m.\u001b[0m\u001b[0mreshape\u001b[0m\u001b[1;33m(\u001b[0m\u001b[0mrain\u001b[0m\u001b[1;33m,\u001b[0m\u001b[1;33m(\u001b[0m\u001b[1;36m3\u001b[0m\u001b[1;33m,\u001b[0m\u001b[1;36m2\u001b[0m\u001b[1;33m)\u001b[0m\u001b[1;33m)\u001b[0m\u001b[1;33m\u001b[0m\u001b[1;33m\u001b[0m\u001b[0m\n\u001b[0m",
      "\u001b[1;32m~\\anaconda3\\lib\\site-packages\\pandas\\__init__.py\u001b[0m in \u001b[0;36m__getattr__\u001b[1;34m(name)\u001b[0m\n\u001b[0;32m    256\u001b[0m             \u001b[1;32mreturn\u001b[0m \u001b[0m_SparseArray\u001b[0m\u001b[1;33m\u001b[0m\u001b[1;33m\u001b[0m\u001b[0m\n\u001b[0;32m    257\u001b[0m \u001b[1;33m\u001b[0m\u001b[0m\n\u001b[1;32m--> 258\u001b[1;33m         \u001b[1;32mraise\u001b[0m \u001b[0mAttributeError\u001b[0m\u001b[1;33m(\u001b[0m\u001b[1;34mf\"module 'pandas' has no attribute '{name}'\"\u001b[0m\u001b[1;33m)\u001b[0m\u001b[1;33m\u001b[0m\u001b[1;33m\u001b[0m\u001b[0m\n\u001b[0m\u001b[0;32m    259\u001b[0m \u001b[1;33m\u001b[0m\u001b[0m\n\u001b[0;32m    260\u001b[0m \u001b[1;33m\u001b[0m\u001b[0m\n",
      "\u001b[1;31mAttributeError\u001b[0m: module 'pandas' has no attribute 'reshape'"
     ]
    }
   ],
   "source": [
    "pd.reshape(rain,(3,2))"
   ]
  },
  {
   "cell_type": "code",
   "execution_count": null,
   "metadata": {},
   "outputs": [],
   "source": []
  }
 ],
 "metadata": {
  "kernelspec": {
   "display_name": "Python 3",
   "language": "python",
   "name": "python3"
  },
  "language_info": {
   "codemirror_mode": {
    "name": "ipython",
    "version": 3
   },
   "file_extension": ".py",
   "mimetype": "text/x-python",
   "name": "python",
   "nbconvert_exporter": "python",
   "pygments_lexer": "ipython3",
   "version": "3.8.5"
  }
 },
 "nbformat": 4,
 "nbformat_minor": 4
}
